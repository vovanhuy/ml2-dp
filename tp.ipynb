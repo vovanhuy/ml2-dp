{
 "cells": [
  {
   "cell_type": "markdown",
   "metadata": {},
   "source": [
    "# Introduction to deep learning with TensorFlow\n",
    "\n",
    "## VERY IMPORTANT\n",
    "\n",
    "- This work **must be done by pairs of students**.\n",
    "- **Each** student must send their work, using the **moodle platform**.\n",
    "- This means that **each student in the pair sends the same file**\n",
    "\n",
    "# Gentle reminder: no evaluation if you don't respect this EXACTLY\n",
    "\n",
    "## To generate the name of your file, use the following"
   ]
  },
  {
   "cell_type": "code",
   "execution_count": 18,
   "metadata": {
    "collapsed": false
   },
   "outputs": [
    {
     "name": "stdout",
     "output_type": "stream",
     "text": [
      "tp1_vo_van-huy_and_nguyen_ta-duy.ipynb\n"
     ]
    }
   ],
   "source": [
    "# Change here using your first and last names\n",
    "fn1 = \"Van-Huy\"\n",
    "ln1 = \"Vo\"\n",
    "fn2 = \"Ta-Duy\"\n",
    "ln2 = \"Nguyen\"\n",
    "\n",
    "filename = \"_\".join(map(lambda s: s.strip().lower(), \n",
    "                        [\"tp1\", ln1, fn1, \"and\", ln2, fn2])) + \".ipynb\"\n",
    "print(filename)"
   ]
  },
  {
   "cell_type": "markdown",
   "metadata": {},
   "source": [
    "# Table of content\n",
    "\n",
    "[0. Tensorflow basics](#basics)<br>\n",
    "[1. Handwritten digit recognition with MNIST](#mnist)<br>\n",
    "[2. A first model: softmax (or multinomial logistic) regression](#softmax)<br>\n",
    "[3. Feed-Forward Neural Network (FFNN)](#ffnn)<br>\n",
    "[4. Convolutional Neural Network](#cnn)<br>\n",
    "[5. Hand-made feed-forward network for the XOR problem](#xor)<br>"
   ]
  },
  {
   "cell_type": "code",
   "execution_count": 20,
   "metadata": {
    "collapsed": false
   },
   "outputs": [
    {
     "name": "stdout",
     "output_type": "stream",
     "text": [
      "tensorflow version 1.0.0 (should be at least 0.12.1)\n"
     ]
    }
   ],
   "source": [
    "from __future__ import print_function\n",
    "from six.moves import cPickle as pickle\n",
    "from six.moves import range\n",
    "\n",
    "import numpy as np\n",
    "from scipy.optimize import check_grad\n",
    "\n",
    "import tensorflow as tf\n",
    "\n",
    "%matplotlib inline\n",
    "\n",
    "print(\"tensorflow version %s (should be at least 0.12.1)\" % tf.__version__)"
   ]
  },
  {
   "cell_type": "markdown",
   "metadata": {},
   "source": [
    "<a id='basics'></a>\n",
    "# 0. Tensorflow basics\n",
    "\n",
    "The `numpy` library does some expensive operations outside Python using efficient code (Fortran, C/C++). However, switching back to python after each operation cause a big overhead because of unnecessary copies of the data. \n",
    "\n",
    "The library `tensorflow` does all the computations outside of Python: the python API is used to define a graph of operations, that will run entirely using C++ binaries. This architecture allows to get rid of the overhead. Besides, knowing the computational graph beforehand allows to parallelize and/or distribute the computation more easily. As a result, `tensoflow` can run the computations on multiple CPUs or GPUs, and on multiple servers.\n",
    "\n",
    "\n",
    "## 0.1. Operations on tensors\n",
    "\n",
    "Graphs of operations contains descriptions of symbolic variables, such as:"
   ]
  },
  {
   "cell_type": "code",
   "execution_count": 21,
   "metadata": {
    "collapsed": false,
    "scrolled": false
   },
   "outputs": [
    {
     "name": "stdout",
     "output_type": "stream",
     "text": [
      "x1: \n",
      " [[ 1.  1.  1.]\n",
      " [ 1.  1.  1.]]\n",
      "x2: \n",
      " [[ 0.]\n",
      " [ 1.]\n",
      " [ 2.]]\n",
      "x3: \n",
      " [ 0.  1.  2.]\n",
      "x4: \n",
      " [[2 2 2]]\n"
     ]
    }
   ],
   "source": [
    "## Constant tensors\n",
    "x1 = tf.ones((2, 3), dtype=tf.float32)\n",
    "x2 = tf.constant(np.array([0, 1, 2]), shape=(3, 1), dtype=tf.float32)\n",
    "\n",
    "# equivalently\n",
    "x3 = tf.range(0, 3, 1, tf.float32)\n",
    "x4 = tf.fill((1, 3), 2)\n",
    "\n",
    "with tf.Session() as sess:\n",
    "    print(\"x1: \\n\", sess.run(x1))\n",
    "    print(\"x2: \\n\", sess.run(x2))\n",
    "    print(\"x3: \\n\", sess.run(x3))\n",
    "    print(\"x4: \\n\", sess.run(x4))"
   ]
  },
  {
   "cell_type": "code",
   "execution_count": 22,
   "metadata": {
    "collapsed": false
   },
   "outputs": [
    {
     "name": "stdout",
     "output_type": "stream",
     "text": [
      "run 1: \n",
      " [[ 0.59807539  4.43660021  5.1217885 ]]\n",
      "run 2: \n",
      " [[ 0.06563938 -0.74832672 -0.66785991]]\n"
     ]
    }
   ],
   "source": [
    "## random tensors\n",
    "norm = tf.random_normal([1, 3], mean=0, stddev=2)\n",
    "\n",
    "# each time random tensors are run, new samples are generated\n",
    "with tf.Session() as sess:\n",
    "    print(\"run 1: \\n\", sess.run(norm))\n",
    "    print(\"run 2: \\n\", sess.run(norm))"
   ]
  },
  {
   "cell_type": "code",
   "execution_count": 23,
   "metadata": {
    "collapsed": false
   },
   "outputs": [
    {
     "name": "stdout",
     "output_type": "stream",
     "text": [
      "First session\n",
      "run 1, seeded: \n",
      " [[ 0.51340485 -0.25581399  0.65199131]]\n",
      "run 2, seeded: \n",
      " [[ 1.31229651 -0.81987709 -0.71966368]]\n",
      "\n",
      "\n",
      "Second session\n",
      "run 1, seeded: \n",
      " [[ 0.51340485 -0.25581399  0.65199131]]\n",
      "run 2, seeded: \n",
      " [[ 1.31229651 -0.81987709 -0.71966368]]\n"
     ]
    }
   ],
   "source": [
    "# You can seed a random tensor to generate a repeatable sequence\n",
    "seeded_norm = tf.random_normal([1, 3], seed=1234)\n",
    "\n",
    "with tf.Session() as sess:\n",
    "    print(\"First session\")\n",
    "    print(\"run 1, seeded: \\n\", sess.run(seeded_norm))\n",
    "    print(\"run 2, seeded: \\n\", sess.run(seeded_norm))\n",
    "print(\"\\n\")\n",
    "\n",
    "with tf.Session() as sess:\n",
    "    print(\"Second session\")\n",
    "    print(\"run 1, seeded: \\n\", sess.run(seeded_norm))\n",
    "    print(\"run 2, seeded: \\n\", sess.run(seeded_norm))"
   ]
  },
  {
   "cell_type": "markdown",
   "metadata": {},
   "source": [
    "## 0.2. Input data\n",
    "To represent input data in the computation graph, we use `placeholders`. Placeholders are tensors that will be fed with data when running the session, e.g.:"
   ]
  },
  {
   "cell_type": "code",
   "execution_count": 25,
   "metadata": {
    "collapsed": true
   },
   "outputs": [],
   "source": [
    "# Placeholders example\n",
    "x = tf.placeholder(tf.float32, shape=(2, 2)) # 2 x 2 tensor\n",
    "y = tf.matmul(x, x) # dot product"
   ]
  },
  {
   "cell_type": "code",
   "execution_count": null,
   "metadata": {
    "collapsed": false,
    "scrolled": false
   },
   "outputs": [],
   "source": [
    "## ERROR: will fail since x was not fed (uncomment, run the code below and look at \n",
    "##        the very long error message)\n",
    "#with tf.Session() as sess:\n",
    "#    print(sess.run(y))"
   ]
  },
  {
   "cell_type": "markdown",
   "metadata": {},
   "source": [
    "In the example below, we run the computation by feeding the contents of `rand_array` into placeholder `x`.\n",
    "Now the code works"
   ]
  },
  {
   "cell_type": "code",
   "execution_count": 26,
   "metadata": {
    "collapsed": false,
    "scrolled": true
   },
   "outputs": [
    {
     "name": "stdout",
     "output_type": "stream",
     "text": [
      "random 2x2 array: \n",
      " [[ 0.64610341  0.70250021]\n",
      " [ 0.39860759  0.88679977]]\n",
      "Numpy implementation: \n",
      " [[ 0.69747153  1.0768648 ]\n",
      " [ 0.61102684  1.06643575]]\n",
      "TensorFlow implementation: \n",
      " [[ 0.6974715   1.07686472]\n",
      " [ 0.61102682  1.06643569]]\n"
     ]
    }
   ],
   "source": [
    "with tf.Session() as sess:\n",
    "    rand_array = np.random.rand(2, 2)\n",
    "    print(\"random 2x2 array: \\n\", rand_array)\n",
    "    print(\"Numpy implementation: \\n\", rand_array.dot(rand_array))\n",
    "    print(\"TensorFlow implementation: \\n\", sess.run(y, feed_dict={x: rand_array})) # Will succeed."
   ]
  },
  {
   "cell_type": "markdown",
   "metadata": {},
   "source": [
    "## 0.3. Variables\n",
    "\n",
    "`Variables` are in-memory buffers containing tensors, i.e. they are used to save parameters used during computations: they will contain for instance the model weights of a neural network during its training. \n",
    "They maintain their state in the computation graph accross calls to `run()`, namely the contents of `variable` remain the same between different runs.\n",
    "\n",
    "In the example below we initialize a variable with a tensor"
   ]
  },
  {
   "cell_type": "code",
   "execution_count": 27,
   "metadata": {
    "collapsed": false
   },
   "outputs": [
    {
     "name": "stdout",
     "output_type": "stream",
     "text": [
      "Variable initialized with a constant tensor: \n",
      " [ 0.  0.  0.]\n",
      "Variable initialized with a random tensor: \n",
      " [[ 1.47003138  0.3270638  -0.18905835]\n",
      " [ 1.22427285 -0.40053752  0.87136829]]\n"
     ]
    }
   ],
   "source": [
    "# Variables must be explicitely initialized.\n",
    "# The initial value can be a tensor of any type or shape\n",
    "# Note that the default type is always float32.\n",
    "foo = tf.Variable(tf.zeros([3]))\n",
    "\n",
    "# Random tensors can be used to initialize variables\n",
    "var = tf.Variable(tf.random_normal((2, 3)))\n",
    "\n",
    "# Variable initializers must be run explicitly before \n",
    "# other ops in your model can be run\n",
    "init = tf.global_variables_initializer()\n",
    "\n",
    "with tf.Session() as sess:\n",
    "    sess.run(init)\n",
    "    print(\"Variable initialized with a constant tensor: \\n\", sess.run(foo))\n",
    "    print(\"Variable initialized with a random tensor: \\n\", sess.run(var))"
   ]
  },
  {
   "cell_type": "markdown",
   "metadata": {},
   "source": [
    "In the example below, we use a `n_runs` variable which is incremented at each run. \n",
    "Note that it's **state is maintained between runs**."
   ]
  },
  {
   "cell_type": "code",
   "execution_count": 28,
   "metadata": {
    "collapsed": false
   },
   "outputs": [
    {
     "name": "stdout",
     "output_type": "stream",
     "text": [
      "Variable maintain their state across runs\n",
      "Run #1:  1\n",
      "Run #2:  2\n",
      "Run #3:  3\n"
     ]
    }
   ],
   "source": [
    "n_runs = tf.Variable(0)\n",
    "one = tf.constant(1)\n",
    "increment_n_runs = tf.assign_add(n_runs, one)\n",
    "# Remark: a more direct tf.assign_add(n_runs, 1) works also, but\n",
    "#         this allows to illustrate the use of tf.constant\n",
    "\n",
    "init = tf.global_variables_initializer()\n",
    "\n",
    "with tf.Session() as sess:\n",
    "    sess.run(init)\n",
    "    print(\"Variable maintain their state across runs\")\n",
    "    print(\"Run #1: \", sess.run(increment_n_runs))\n",
    "    print(\"Run #2: \", sess.run(increment_n_runs))\n",
    "    print(\"Run #3: \", sess.run(increment_n_runs))"
   ]
  },
  {
   "cell_type": "code",
   "execution_count": 29,
   "metadata": {
    "collapsed": false
   },
   "outputs": [
    {
     "name": "stdout",
     "output_type": "stream",
     "text": [
      "Saved variable: \n",
      " [[ 0.22532335  0.12170933 -0.51565683]\n",
      " [ 0.04100075  1.59555888 -0.30819646]]\n",
      "Model saved in file: /tmp/model.ckpt\n",
      "\n",
      "\n",
      "Model restored.\n",
      "Restored variable: \n",
      " [[ 0.22532335  0.12170933 -0.51565683]\n",
      " [ 0.04100075  1.59555888 -0.30819646]]\n"
     ]
    }
   ],
   "source": [
    "# Variables can be saved to disk during and after some computations and \n",
    "# restored later. This is particularly useful to save the weights of a \n",
    "# trained model.\n",
    "\n",
    "# A saver operation is required to save and restore all the variables.\n",
    "saver = tf.train.Saver()\n",
    "\n",
    "with tf.Session() as sess:\n",
    "    sess.run(init)\n",
    "    # Save the variables to disk.\n",
    "    print(\"Saved variable: \\n\", sess.run(var))\n",
    "    save_path = saver.save(sess, \"/tmp/model.ckpt\")\n",
    "    print(\"Model saved in file: %s\" % save_path)\n",
    "\n",
    "print(\"\\n\")\n",
    "with tf.Session() as sess:\n",
    "    # Restore variables from disk.\n",
    "    saver.restore(sess, \"/tmp/model.ckpt\")\n",
    "    print(\"Model restored.\")\n",
    "    print(\"Restored variable: \\n\", sess.run(var))"
   ]
  },
  {
   "cell_type": "markdown",
   "metadata": {},
   "source": [
    "## 0.4 Running the computations\n",
    "\n",
    "In a nutshell, `TensorFlow` works like this:\n",
    "\n",
    "* Declare a computation graph in which you define what are the inputs (`Placeholder`s), the `Variable`s, and the `Operation`s you want to perform with them.\n",
    "\n",
    "      with graph.as_default():\n",
    "          x = tf.placeholder(...)\n",
    "          W = tf.Variable(...)\n",
    "          ...\n",
    "\n",
    "* You can then run the `Operation`s on this graph as many times as you want by calling `session.run()`. A `Session` object encapsulate the environment in which `Operation` objects are executed, and `Tensor`s evaluated.\n",
    "\n",
    "      with tf.Session(graph=graph) as session:\n",
    "          session.run(fetches, feed_dict=...)\n",
    "          ...\n",
    "      \n",
    "The `fetches` argument may be a single graph element, or an arbitrarily nested `list`, `tuple`, `namedtuple`, or `dict` containing graph elements at its leaves. A graph element can be one of the following types:\n",
    "\n",
    "- An `Operation`, e.g. \"run an optimizer step\". The corresponding fetched value will be None.\n",
    "- A `Tensor` (cf. examples above). The corresponding fetched value will be a numpy ndarray containing the value of that tensor.\n",
    "- and other options out of this tutorial's scope\n",
    "\n",
    "A session may own resources, such as variables, queues, and readers. \n",
    "It is important to release these resources when they are no longer required. \n",
    "To do this, either invoke the `close()` method on the session, or use the session as a context manager. \n",
    "The following two examples are equivalent:\n",
    "\n",
    "    # Using the `close()` method.\n",
    "    sess = tf.Session()\n",
    "    sess.run(...)\n",
    "    sess.close()\n",
    "\n",
    "    # Using the context manager.\n",
    "    with tf.Session() as sess:\n",
    "        sess.run(...)\n",
    "      \n",
    "### Remark\n",
    "\n",
    "You may have noted that the tensors declared earlier were not declared explicitely as being part of a graph. \n",
    "In fact, when you don't specify a graph when declaring tensors or initializing sessions, TensorFlow will use a \"default\" graph. When working on different models, using only the default graph might be messy. \n",
    "In the following, we will declare each model in a specific graph:\n",
    "\n",
    "    some_model_graph = tf.Graph()\n",
    "\n",
    "    with some_model_graph.as_default():\n",
    "        # Declare all your tensors and operations here\n",
    "        # ...\n",
    "        \n",
    "    with tf.Session(graph=some_model_graph) as sess:\n",
    "        # Run some stuff\n",
    "        sess.run(...)\n",
    "\n",
    "Beware though, different graphs are not different namespaces, i.e. if you declare a tensor `foo` in a graph `g1` and then declare an other tensor `foo` in a graph `g2`, you might have some trouble. \n",
    "The internals of TensorFlow are out of the scope of this tutorial, but you can find more details in TensorFlow [documentation](https://www.tensorflow.org/api_docs/python/framework/)."
   ]
  },
  {
   "cell_type": "markdown",
   "metadata": {},
   "source": [
    "<a id='mnist'></a>\n",
    "# 1. Handwritten digit recognition with MNIST\n",
    "\n",
    "For the first part of this tutorial, we will use the [MNIST](http://yann.lecun.com/exdb/mnist) dataset.\n",
    "This dataset contains images representing handwritten digits. \n",
    "Each image is 28 x 28 pixels, and each pixel is represented by a number (gray level). \n",
    "These arrays can be flattened into vectors of 28 x 28 = 784 numbers.\n",
    "You can then see each image as a point in a 784-dimensional vector space. \n",
    "You can find interesting visualisations of this vector space [http://colah.github.io/posts/2014-10-Visualizing-MNIST/](http://colah.github.io/posts/2014-10-Visualizing-MNIST/) (but don't spend too much time looking at the cool graphs :))\n",
    "\n",
    "## 1.1. Introduction\n",
    "\n",
    "The labels in $\\{0, 1, 2, \\ldots, 9\\}$ giving the digit on the image are be represented using one-hot encoding: labels in $\\{0, 1, 2, \\ldots, 9\\}$ are replaced by labels in $\\{ 0, 1\\}^{10}$, namely $0$ is replaced by $(1, 0, \\ldots 0)$, $1$ is replaced by $(0, 1, 0, \\ldots 0)$, $2$ is replaced by $(0, 0, 1, 0, \\ldots, 0)$, etc.\n",
    "\n",
    "MNIST data is **already normalized** to avoid numerical instability.\n",
    "Indeed, working with big floats can lead to important numerical errors. \n",
    "It is a good practice to normalize the inputs (features) so that they have zero mean and a constant (small) variance. To convince yourself of the damages that can result from numerical instability, see the following cell:"
   ]
  },
  {
   "cell_type": "code",
   "execution_count": 30,
   "metadata": {
    "collapsed": false
   },
   "outputs": [
    {
     "name": "stdout",
     "output_type": "stream",
     "text": [
      "Numerically instable sum: 0.953674 \n",
      "Numerically stable sum: 1.000000 \n"
     ]
    }
   ],
   "source": [
    "foo = 1e9\n",
    "for i in range(int(1e6)):\n",
    "    foo += 1e-6\n",
    "foo -= 1e9\n",
    "print(\"Numerically instable sum: %f \" % foo)\n",
    "\n",
    "bar = 1\n",
    "for i in range(int(1e6)):\n",
    "    bar += 1e-6\n",
    "bar -= 1\n",
    "print(\"Numerically stable sum: %f \" % bar)"
   ]
  },
  {
   "cell_type": "markdown",
   "metadata": {},
   "source": [
    "## 1.2. Download the data"
   ]
  },
  {
   "cell_type": "code",
   "execution_count": 31,
   "metadata": {
    "collapsed": false,
    "scrolled": false
   },
   "outputs": [
    {
     "name": "stdout",
     "output_type": "stream",
     "text": [
      "Extracting ./mnist/train-images-idx3-ubyte.gz\n",
      "Extracting ./mnist/train-labels-idx1-ubyte.gz\n",
      "Extracting ./mnist/t10k-images-idx3-ubyte.gz\n",
      "Extracting ./mnist/t10k-labels-idx1-ubyte.gz\n"
     ]
    }
   ],
   "source": [
    "from tensorflow.examples.tutorials.mnist import input_data\n",
    "\n",
    "# Download the data in the working directory\n",
    "mnist = input_data.read_data_sets(\"./mnist/\", one_hot=True)"
   ]
  },
  {
   "cell_type": "code",
   "execution_count": 32,
   "metadata": {
    "collapsed": false,
    "scrolled": true
   },
   "outputs": [
    {
     "data": {
      "text/plain": [
       "tensorflow.contrib.learn.python.learn.datasets.base.Datasets"
      ]
     },
     "execution_count": 32,
     "metadata": {},
     "output_type": "execute_result"
    }
   ],
   "source": [
    "# Datasets are convenient classes you can use to store data\n",
    "# when using TensorFlow. You can also use numpy.ndarrays as easily.\n",
    "type(mnist)"
   ]
  },
  {
   "cell_type": "code",
   "execution_count": 33,
   "metadata": {
    "collapsed": false,
    "scrolled": true
   },
   "outputs": [
    {
     "name": "stdout",
     "output_type": "stream",
     "text": [
      "['count', 'index', 'test', 'train', 'validation']\n"
     ]
    }
   ],
   "source": [
    "# Structure of the dataset object\n",
    "print([elem for elem in dir(mnist) if not elem.startswith('_')])"
   ]
  },
  {
   "cell_type": "code",
   "execution_count": 34,
   "metadata": {
    "collapsed": false,
    "scrolled": false
   },
   "outputs": [
    {
     "name": "stdout",
     "output_type": "stream",
     "text": [
      "Number of training examples:  55000\n",
      "Number of validation examples:  5000\n",
      "Number of test examples:  10000\n",
      "Images dimensions:  784 (i.e 28 x 28)\n",
      "Number of classes:  10\n"
     ]
    }
   ],
   "source": [
    "print(\"Number of training examples: \", mnist.train.images.shape[0])\n",
    "print(\"Number of validation examples: \", mnist.validation.images.shape[0])\n",
    "print(\"Number of test examples: \", mnist.test.images.shape[0])\n",
    "print(\"Images dimensions: \", mnist.test.images.shape[1], \"(i.e 28 x 28)\")\n",
    "print(\"Number of classes: \", mnist.test.labels.shape[1])"
   ]
  },
  {
   "cell_type": "markdown",
   "metadata": {},
   "source": [
    "## 1.3. A first look at the data"
   ]
  },
  {
   "cell_type": "markdown",
   "metadata": {},
   "source": [
    "In the next cell we illustrate the first for elements of the training data: \n",
    "pixels grayscale of the digit and their corresponding label."
   ]
  },
  {
   "cell_type": "code",
   "execution_count": 35,
   "metadata": {
    "collapsed": false,
    "scrolled": false
   },
   "outputs": [
    {
     "data": {
      "image/png": "[encoded data removed]",
      "text/plain": [
       "<matplotlib.figure.Figure at 0x7f5399f038d0>"
      ]
     },
     "metadata": {},
     "output_type": "display_data"
    }
   ],
   "source": [
    "plt.figure(figsize=(12, 3))\n",
    "\n",
    "for i in range(4):\n",
    "    plt.subplot(1, 4, i+1)\n",
    "    plt.imshow(mnist.train.images[i].reshape(28, 28), \n",
    "               interpolation=\"none\", cmap=\"gray_r\")\n",
    "    plt.text(0, 30, str(mnist.train.labels[i]), fontsize=12)\n",
    "    plt.axis(\"off\")\n",
    "plt.tight_layout()"
   ]
  },
  {
   "cell_type": "code",
   "execution_count": 36,
   "metadata": {
    "collapsed": false,
    "scrolled": false
   },
   "outputs": [
    {
     "data": {
      "image/png": "[encoded data removed]",
      "text/plain": [
       "<matplotlib.figure.Figure at 0x7f5399d73c50>"
      ]
     },
     "metadata": {},
     "output_type": "display_data"
    }
   ],
   "source": [
    "plt.figure(figsize=(8, 4))\n",
    "n_rows = 4\n",
    "n_cols = 8\n",
    "\n",
    "for i in range(n_rows * n_cols):\n",
    "    plt.subplot(n_rows, n_cols, i+1)\n",
    "    plt.imshow(mnist.train.images[i].reshape(28, 28),\n",
    "               interpolation=\"none\", cmap=\"gray_r\")\n",
    "    plt.axis(\"off\")\n",
    "plt.tight_layout()\n",
    "plt.show()"
   ]
  },
  {
   "cell_type": "markdown",
   "metadata": {},
   "source": [
    "The first character is a 7 digit, encoded in grayscale matrix as follows (note that we multiply again by 255):"
   ]
  },
  {
   "cell_type": "code",
   "execution_count": 37,
   "metadata": {
    "collapsed": false,
    "scrolled": false
   },
   "outputs": [
    {
     "name": "stdout",
     "output_type": "stream",
     "text": [
      "[[  0   0   0   0   0   0   0   0   0   0   0   0   0   0   0   0   0   0   0   0   0   0   0   0   0   0   0   0]\n",
      " [  0   0   0   0   0   0   0   0   0   0   0   0   0   0   0   0   0   0   0   0   0   0   0   0   0   0   0   0]\n",
      " [  0   0   0   0   0   0   0   0   0   0   0   0   0   0   0   0   0   0   0   0   0   0   0   0   0   0   0   0]\n",
      " [  0   0   0   0   0   0   0   0   0   0   0   0   0   0   0   0   0   0   0   0   0   0   0   0   0   0   0   0]\n",
      " [  0   0   0   0   0   0   0   0   0   0   0   0   0   0   0   0   0   0   0   0   0   0   0   0   0   0   0   0]\n",
      " [  0   0   0   0   0   0   0   0   0   0   0   0   0   0   0   0   0   0   0   0   0   0   0   0   0   0   0   0]\n",
      " [  0   0   0   0   0   0   0   0   0   0   0   0   0   0   0   0   0   0   0   0   0   0   0   0   0   0   0   0]\n",
      " [  0   0   0   0   0   0   0   0   0   0   0  97  96  77 118  61   0   0   0   0   0   0   0   0   0   0   0   0]\n",
      " [  0   0   0  90 138 235 235 235 235 235 235 251 251 248 254 245 235 190  21   0   0   0   0   0   0   0   0   0]\n",
      " [  0   0 140 251 254 254 254 254 254 254 254 254 254 254 254 254 254 254 189  23   0   0   0   0   0   0   0   0]\n",
      " [  0   0 226 254 208 199 199 199 199 139  61  61  61  61  61 128 222 254 254 189  21   0   0   0   0   0   0   0]\n",
      " [  0   0  38  82  13   0   0   0   0   0   0   0   0   0   0   0  34 213 254 254 115   0   0   0   0   0   0   0]\n",
      " [  0   0   0   0   0   0   0   0   0   0   0   0   0   0   0   0   0  84 254 254 234   0   0   0   0   0   0   0]\n",
      " [  0   0   0   0   0   0   0   0   0   0   0   0   0   0   0   0   0  84 254 254 234   0   0   0   0   0   0   0]\n",
      " [  0   0   0   0   0   0   0   0   0   0   0   0   0   0   0   0 106 157 254 254 243  51   0   0   0   0   0   0]\n",
      " [  0   0   0   0   0   0   0   0   0   0   0  25 117 228 228 228 253 254 254 254 254 240   0   0   0   0   0   0]\n",
      " [  0   0   0   0   0   0   0   0   0  68 119 220 254 254 254 254 254 254 254 254 254 142   0   0   0   0   0   0]\n",
      " [  0   0   0   0   0   0   0  37 187 253 254 254 254 223 206 206  75  68 215 254 254 117   0   0   0   0   0   0]\n",
      " [  0   0   0   0   0   0 113 219 254 242 227 115  89  31   0   0   0   0 200 254 241  41   0   0   0   0   0   0]\n",
      " [  0   0   0   0   0   0 169 254 176  62   0   0   0   0   0   0   0  48 231 254 234   0   0   0   0   0   0   0]\n",
      " [  0   0   0   0   0   0  18 124   0   0   0   0   0   0   0   0   0  84 254 254 166   0   0   0   0   0   0   0]\n",
      " [  0   0   0   0   0   0   0   0   0   0   0   0   0   0   0   0   0 139 254 238  57   0   0   0   0   0   0   0]\n",
      " [  0   0   0   0   0   0   0   0   0   0   0   0   0   0   0   0 210 250 254 168   0   0   0   0   0   0   0   0]\n",
      " [  0   0   0   0   0   0   0   0   0   0   0   0   0   0   0   0 242 254 239  57   0   0   0   0   0   0   0   0]\n",
      " [  0   0   0   0   0   0   0   0   0   0   0   0   0   0   0  89 251 241  86   0   0   0   0   0   0   0   0   0]\n",
      " [  0   0   0   0   0   0   0   0   0   0   0   0   0   0   5 206 246 157   0   0   0   0   0   0   0   0   0   0]\n",
      " [  0   0   0   0   0   0   0   0   0   0   0   0   0   0   4 117  69   0   0   0   0   0   0   0   0   0   0   0]\n",
      " [  0   0   0   0   0   0   0   0   0   0   0   0   0   0   0   0   0   0   0   0   0   0   0   0   0   0   0   0]]\n"
     ]
    }
   ],
   "source": [
    "print(np.array2string((255 * mnist.train.images[0]).astype(np.int).reshape(28, 28), \n",
    "                      max_line_width=150))"
   ]
  },
  {
   "cell_type": "markdown",
   "metadata": {},
   "source": [
    "<a id='softmax'></a>\n",
    "# 2. A first model: softmax (or multinomial logistic) regression \n",
    "\n",
    "## 2.1. Description of the model\n",
    "\n",
    "We want to classify these pictures to predict the digit $k$ they represent for $k \\in \\{0, \\ldots, 9\\}$.\n",
    "A simple model allowing to do that is softmax regression.\n",
    "\n",
    "The idea behind this model is to produce a score for each input image $x$ using a simple linear model. \n",
    "To do so, we assume that belonging to a class $k$ (corresponding to digit $k$) can be expressed by a weigthed sum of the pixel intensities, with weights $W_{k, 1}, \\ldots, W_{k, 784}$ and to a bias $b_k$ capturing variability independent of the input:\n",
    "$$\n",
    "\\text{score}_k(x_i) = \\sum_{j=1}^{784} W_{k, j} x_j + b_k,\n",
    "$$\n",
    "These scores are sometimes called the \"logits\" in the deep learning community.\n",
    "We then use the softmax function to convert the scores into predicted probabilities $p_k$:\n",
    "$$\n",
    "p_k(x_i) = \\text{softmax}(\\text{score}_k(x_i)) = \\frac{\\exp(\\text{score}_k(x_i))}{\\sum_{k'=1}^{10}\\exp(\\text{score}_{k'}(x_i))}\n",
    "$$\n",
    "for $k=1, \\ldots, 10$.\n",
    "\n",
    "## QUESTION\n",
    "\n",
    "1. As an exercise, implement the softmax function below. Beware of the overflow!"
   ]
  },
  {
   "cell_type": "code",
   "execution_count": null,
   "metadata": {
    "collapsed": false
   },
   "outputs": [],
   "source": [
    "def softmax(x):\n",
    "    # Remark: this function shouldn't be used as part of TensorFlow operations.\n",
    "    #         It is just a warming initial exercice, independent of the remaining.\n",
    "    ## TODO\n",
    "\n",
    "    ## END TODO\n",
    "\n",
    "test_input = np.array([1, .5, 0.1])\n",
    "print(softmax(test_input))"
   ]
  },
  {
   "cell_type": "markdown",
   "metadata": {},
   "source": [
    "The plot in the next cell illustrates the effect of the softmax on an input"
   ]
  },
  {
   "cell_type": "code",
   "execution_count": null,
   "metadata": {
    "collapsed": false
   },
   "outputs": [],
   "source": [
    "test_input = np.array([1, .5, 0.1])\n",
    "x = np.linspace(0, 5)\n",
    "y = np.array([softmax(test_input * i) for i in x])\n",
    "plt.figure()\n",
    "ax = plt.gca()\n",
    "ax.plot(x, y[:, 0], label=\"1\")\n",
    "ax.plot(x, y[:, 1], label=\"0.5\")\n",
    "ax.plot(x, y[:, 2], label=\"0.1\")\n",
    "plt.xlabel(\"multiplicative factor of the scores\")\n",
    "plt.ylabel(\"softmax\")\n",
    "plt.legend(loc=\"best\")\n",
    "plt.show()"
   ]
  },
  {
   "cell_type": "markdown",
   "metadata": {},
   "source": [
    "## 2.2. The computational graph for training of softmax regression"
   ]
  },
  {
   "cell_type": "markdown",
   "metadata": {},
   "source": [
    "To train the model weights $W_{k, j}$ and $b_k$ for $k=1, \\ldots, 10$ and $j=1, \\ldots, 784$, we consider the goodness-of-fit given by the negative log-likelihood.\n",
    "For the considered model, the negative log-likelihood of a sample with input $x_i \\in \\mathbb R^{784}$ and label $y_i \\in \\{0, 1\\}^{10}$, it is given by the cross-entropy between the scores $p_k(x_i)$ and the label $y_i$:\n",
    "$$\n",
    "- \\sum_{k=1}^{10} y_{i, k} \\log(p_k(x_i))\n",
    "$$\n",
    "For this first model, we will simply use stochastic gradient descent over small batches of data. It can be done easily with TensorFlow, as it will automatically and efficiently compute the gradient from your graph, then apply an optimization algorithm of your choice to perform the parameters update."
   ]
  },
  {
   "cell_type": "code",
   "execution_count": null,
   "metadata": {
    "collapsed": false
   },
   "outputs": [],
   "source": [
    "softmax_regression_graph = tf.Graph()\n",
    "\n",
    "with softmax_regression_graph.as_default():\n",
    "    # Create a placeholder of dimension `[None, 784]`, containing float32\n",
    "    # `None` means that the first dimension can be of any length\n",
    "    # This placeholder will be fed with MNIST images\n",
    "    image =  # TODO\n",
    "    \n",
    "    # Create a placeholder of dimension `[None, 10]`, containing float32\n",
    "    # to be fed with the labels\n",
    "    label =  # TODO\n",
    "\n",
    "    # Declare model parameters, ie. a tensor containing weights\n",
    "    # of dimension `[784, 10]` and a tensor containing the bias\n",
    "    # parameters of dimension `[10]`.\n",
    "    # Initialise these tensors with zeros\n",
    "    W =  # TODO\n",
    "    b =  # TODO\n",
    "\n",
    "    # Now declare the model described above\n",
    "    # you can use tf.matmul(foo, bar) to perform \n",
    "    # matrix multiplication on 2D tensors\n",
    "    # and tf.nn.softmax(baz) to compute the softmax of a tensor\n",
    "    scores =  # TODO\n",
    "    predicted_probabilities =  # TODO\n",
    " \n",
    "    # The raw formulation of cross-entropy,\n",
    "    #\n",
    "    #   tf.reduce_mean(-tf.reduce_sum(y_ * tf.log(tf.nn.softmax(y)),\n",
    "    #                                 reduction_indices=[1]))\n",
    "    #\n",
    "    # can be numerically unstable.\n",
    "    #\n",
    "    # So here, use tf.nn.softmax_cross_entropy_with_logits on the raw\n",
    "    # outputs of 'scores', and then average across the batch using tf.reduce_mean\n",
    "    loss =  # TODO\n",
    "    \n",
    "    # Optimization step\n",
    "    train_step = tf.train.GradientDescentOptimizer(0.5).minimize(loss)\n",
    "    \n",
    "    # Test trained model\n",
    "    correct_prediction = tf.equal(tf.argmax(predicted_probabilities, 1), tf.argmax(label, 1))\n",
    "    accuracy = tf.reduce_mean(tf.cast(correct_prediction, tf.float32))"
   ]
  },
  {
   "cell_type": "markdown",
   "metadata": {},
   "source": [
    "## 2.3. Launching of the training"
   ]
  },
  {
   "cell_type": "code",
   "execution_count": null,
   "metadata": {
    "collapsed": false
   },
   "outputs": [],
   "source": [
    "# Size of the mini-batch\n",
    "mini_batch_size = 100\n",
    "# Number of SGD steps\n",
    "n_steps = 1000\n",
    "\n",
    "training_data = {image: mnist.train.images, label: mnist.train.labels}\n",
    "validation_data = {image: mnist.validation.images, label: mnist.validation.labels}\n",
    "test_data = {image: mnist.test.images, label: mnist.test.labels}\n",
    "\n",
    "with tf.Session(graph=softmax_regression_graph) as sess:\n",
    "    tf.global_variables_initializer().run()\n",
    "    # Training loop\n",
    "    for step in range(n_steps + 1):\n",
    "        # Get next mini-batch\n",
    "        batch_images, batch_labels = mnist.train.next_batch(mini_batch_size)\n",
    "        feed = {image: batch_images, label: batch_labels}\n",
    "        _, current_loss = sess.run([train_step, loss], feed_dict=feed)        \n",
    "        if step % 200 == 0:\n",
    "            print('Step %d' % step)\n",
    "            print('....Loss:     %f' % current_loss)\n",
    "            print('....Accuracy on train: %f' % sess.run(accuracy, feed_dict=training_data))\n",
    "            print('....Accuracy on validation: %f' % sess.run(accuracy, feed_dict=validation_data))\n",
    "    print('Accuracy on test: %f' % sess.run(accuracy, feed_dict=test_data))\n",
    "    # Save the weights into a numpy ndarray for plotting\n",
    "    weights = sess.run(W)"
   ]
  },
  {
   "cell_type": "markdown",
   "metadata": {},
   "source": [
    "## 2.4. Visualization of the model-weights"
   ]
  },
  {
   "cell_type": "code",
   "execution_count": null,
   "metadata": {
    "collapsed": false,
    "scrolled": false
   },
   "outputs": [],
   "source": [
    "imgs = weights.reshape(28, 28, 10)\n",
    "\n",
    "F = plt.figure(1, (8, 4))\n",
    "from mpl_toolkits.axes_grid1 import ImageGrid\n",
    "grid = ImageGrid(F, 111,  # similar to subplot(111)\n",
    "                 nrows_ncols=(2, 5),\n",
    "                 axes_pad=0.5,\n",
    "                 add_all=True,\n",
    "                 label_mode=\"L\",\n",
    "                 cbar_mode=\"single\")\n",
    "\n",
    "vmin, vmax = imgs.min(), imgs.max()\n",
    "for i in range(10):\n",
    "    ax = grid[i]\n",
    "    im = imgs[:,:,i]\n",
    "    mappable = ax.imshow(im, interpolation=\"nearest\", vmin=vmin, vmax=vmax, cmap=\"bwr\")\n",
    "    ax.axis(\"off\")\n",
    "    ax.set_title(\"%i\" % i)\n",
    "grid.cbar_axes[0].colorbar(mappable, ticks=[vmin, 0, vmax])\n",
    "plt.show()"
   ]
  },
  {
   "cell_type": "markdown",
   "metadata": {},
   "source": [
    "## 2.5. Some remarks\n",
    "\n",
    "You should have reached an accuracy of around 0.9 with this simple model. \n",
    "**Too easy**! You almost solved the problem using a simple softmax regression. \n",
    "Weight matrices plots show that the learned weights are consistant with the digits they should predict. \n",
    "You should be able to see rough shapes corresponding to the digits 0, 1, 2, 3, etc.\n",
    "\n",
    "MNIST is a very very **clean** dataset. Digits are rescaled, smoothed, centered, and pixel values are normalized beforehand. Let's switch to a slightly harder dataset: [notMNIST](http://yaroslavvb.blogspot.com/2011/09/notmnist-dataset.html).\n",
    "\n",
    "This time, labels are letters from 'A' to 'J' (10 classes). \n",
    "These letters are taken from digital fonts instead of handwriting pictures. \n",
    "We will use a reduced amount of data to ensure a reasonable training time. \n",
    "The training set you will use has 200k labelled examples, while the validation and test sets both contain 10k labelled examples."
   ]
  },
  {
   "cell_type": "markdown",
   "metadata": {},
   "source": [
    "## 2.6. Load the notMNIST dataset"
   ]
  },
  {
   "cell_type": "code",
   "execution_count": null,
   "metadata": {
    "collapsed": false
   },
   "outputs": [],
   "source": [
    "from six.moves import cPickle as pickle\n",
    "\n",
    "pickle_file = './notMNIST.pickle'\n",
    "\n",
    "with open(pickle_file, 'rb') as f:\n",
    "    data = pickle.load(f)\n",
    "    train_dataset = data['train_dataset']\n",
    "    train_labels = data['train_labels']\n",
    "    valid_dataset = data['valid_dataset']\n",
    "    valid_labels = data['valid_labels']\n",
    "    test_dataset = data['test_dataset']\n",
    "    test_labels = data['test_labels']\n",
    "    del data  # hint to help the garbage collector to free up memory\n",
    "    print('Training set', train_dataset.shape, train_labels.shape)\n",
    "    print('Validation set', valid_dataset.shape, valid_labels.shape)\n",
    "    print('Test set', test_dataset.shape, test_labels.shape)\n",
    "\n",
    "image_size = 28\n",
    "num_labels = 10\n",
    "\n",
    "def reformat(dataset, labels):\n",
    "    dataset = dataset.reshape((-1, image_size * image_size)).astype(np.float32)\n",
    "    # One-hot encode the labels\n",
    "    labels = (np.arange(num_labels) == labels[:,None]).astype(np.float32)\n",
    "    return dataset, labels\n",
    "\n",
    "train_dataset, train_labels = reformat(train_dataset, train_labels)\n",
    "valid_dataset, valid_labels = reformat(valid_dataset, valid_labels)\n",
    "test_dataset, test_labels = reformat(test_dataset, test_labels)\n",
    "\n",
    "print('Training set', train_dataset.shape, train_labels.shape)\n",
    "print('Validation set', valid_dataset.shape, valid_labels.shape)\n",
    "print('Test set', test_dataset.shape, test_labels.shape)"
   ]
  },
  {
   "cell_type": "markdown",
   "metadata": {},
   "source": [
    "Let's look at the first 32 examples from the notMNIST dataset"
   ]
  },
  {
   "cell_type": "code",
   "execution_count": null,
   "metadata": {
    "collapsed": false,
    "scrolled": false
   },
   "outputs": [],
   "source": [
    "plt.figure(figsize=(8, 4))\n",
    "n_rows = 4\n",
    "n_cols = 8\n",
    "\n",
    "for i in range(n_rows * n_cols):\n",
    "    plt.subplot(n_rows, n_cols, i+1)\n",
    "    plt.imshow(train_dataset[i].reshape(28, 28),\n",
    "               interpolation=\"none\", cmap=\"gray_r\")\n",
    "    plt.axis(\"off\")\n",
    "plt.tight_layout()\n",
    "plt.show()"
   ]
  },
  {
   "cell_type": "markdown",
   "metadata": {},
   "source": [
    "## 2.7. Training the same softmax model on notMNIST"
   ]
  },
  {
   "cell_type": "code",
   "execution_count": null,
   "metadata": {
    "collapsed": false,
    "scrolled": false
   },
   "outputs": [],
   "source": [
    "mini_batch_size = 100\n",
    "n_steps = 1000\n",
    "\n",
    "training_data = {image: train_dataset, label: train_labels}\n",
    "validation_data = {image: valid_dataset, label: valid_labels}\n",
    "test_data = {image: test_dataset, label: test_labels}\n",
    "\n",
    "with tf.Session(graph=softmax_regression_graph) as sess:\n",
    "    tf.global_variables_initializer().run()\n",
    "    # Training loop\n",
    "    for step in range(n_steps + 1):\n",
    "        # Get next batch\n",
    "        offset = (step * mini_batch_size) % (train_labels.shape[0] - mini_batch_size)\n",
    "        batch_images = train_dataset[offset:(offset + mini_batch_size), :]\n",
    "        batch_labels = train_labels[offset:(offset + mini_batch_size)]\n",
    "        feed = {image: batch_images, label: batch_labels}\n",
    "        _, current_loss = sess.run([train_step, loss], feed_dict=feed)\n",
    "        if step % 100 == 0:\n",
    "            print('Step %d' % step)\n",
    "            print('....Loss:     %f' % current_loss)\n",
    "            print('....Accuracy on train: %f' % sess.run(accuracy, feed_dict=training_data))\n",
    "            print('....Accuracy on validation: %f' % sess.run(accuracy, feed_dict=validation_data))\n",
    "    print('Accuracy on test: %f' % sess.run(accuracy, feed_dict=test_data))\n",
    "    # Save the weights into a numpy ndarray for plotting\n",
    "    weights = sess.run(W)"
   ]
  },
  {
   "cell_type": "markdown",
   "metadata": {},
   "source": [
    "The accuracy is not as good as the one we had on MNIST. Let's try now more complex models"
   ]
  },
  {
   "cell_type": "markdown",
   "metadata": {},
   "source": [
    "<a id='ffnn'></a>\n",
    "# 3. Feed-Forward Neural Network (FFNN)\n",
    "\n",
    "## 3.1. Description\n",
    "\n",
    "The softmax regression you just trained is a linear model, with 7850 parameters. \n",
    "It is easy to fit, numerically stable, but might be too simple for some tasks. \n",
    "The idea behind neural networks is to have a nonlinear model, while keeping the nice features of linear ones. \n",
    "The idea is to keep parameters into linear functions, and link these small linear model using non linear operations.\n",
    "\n",
    "A simple nonlinearity which is often used to do this is the rectified linear unit\n",
    "$\\text{ReLU}(x) = \\max(0, x)$\n",
    "\n",
    "The derivative of this function is very easy to compute, and it is parameter-free. If we stack models such as softmax regression and ReLUs, it is still very easy to compute the gradient using the chain rule, as the model is a combination of simple functions.\n",
    "\n",
    "The backpropagation algorithm allows efficient computation of complex derivatives as long as the function is made of simple blocks with simple derivatives. \n",
    "This algorithm efficiency is based on data reuse: when working with parallel architectures such as GPUs, you want to minimize communication (data transfer) as it is very time consuming in comparison to the computing time.\n",
    "\n",
    "## 3.2. Computational graph for a single hidden layer FFNN\n",
    "\n",
    "## QUESTION\n",
    "\n",
    "1. Create the graph for a fully connected feed-forward neural network with one hidden layer of size 1024."
   ]
  },
  {
   "cell_type": "code",
   "execution_count": null,
   "metadata": {
    "collapsed": false
   },
   "outputs": [],
   "source": [
    "ffnn_graph = tf.Graph()\n",
    "\n",
    "with ffnn_graph.as_default():\n",
    "    # Create a placeholder of dimension `[None, 784]`, containing float32\n",
    "    # `None` means that the first dimension can be of any length\n",
    "    # This placeholder will be fed with MNIST images\n",
    "    image_ffnn =  # TODO\n",
    "\n",
    "    # Create a placeholder of dimension `[None, 10]`, containing float32\n",
    "    # to be fed with the labels\n",
    "    label_ffnn =  # TODO\n",
    "\n",
    "    # Declare model parameters, ie. a tensor containing weights\n",
    "    # Beware of the initialization you choose.\n",
    "    # You should not use methods of tf.contrib.layers (too easy!)\n",
    "    W_hidden =  # TODO\n",
    "    b_hidden =  # TODO\n",
    "    \n",
    "    W_out =  # TODO\n",
    "    b_out =  # TODO\n",
    "\n",
    "    # Now declare the operations of the model described above\n",
    "    # you can use tf.matmul(foo, bar) to perform \n",
    "    # matrix multiplication on 2D tensors\n",
    "    # and tf.nn.softmax(baz) to compute the softmax of a tensor\n",
    "    scores_ffnn =  # TODO\n",
    "    predicted_probabilities_ffnn =  # TODO\n",
    "\n",
    "    # The raw formulation of cross-entropy,\n",
    "    #\n",
    "    #   tf.reduce_mean(-tf.reduce_sum(y_ * tf.log(tf.nn.softmax(y)),\n",
    "    #                                 reduction_indices=[1]))\n",
    "    #\n",
    "    # can be numerically unstable.\n",
    "    #\n",
    "    # So here, use tf.nn.softmax_cross_entropy_with_logits on the raw\n",
    "    # outputs of 'scores', and then average across the batch using tf.reduce_mean\n",
    "    loss_ffnn =  # TODO\n",
    "    \n",
    "    # Optimization step\n",
    "    train_step_ffnn = tf.train.GradientDescentOptimizer(0.5).minimize(loss_ffnn)\n",
    "    \n",
    "    # Test trained model\n",
    "    correct_prediction_ffnn = tf.equal(tf.argmax(predicted_probabilities_ffnn, 1),\n",
    "                                       tf.argmax(label_ffnn, 1))\n",
    "    accuracy_ffnn = tf.reduce_mean(tf.cast(correct_prediction_ffnn, tf.float32))\n"
   ]
  },
  {
   "cell_type": "markdown",
   "metadata": {},
   "source": [
    "## 3.3. Training the FFNN on notMNIST"
   ]
  },
  {
   "cell_type": "code",
   "execution_count": null,
   "metadata": {
    "collapsed": false,
    "scrolled": false
   },
   "outputs": [],
   "source": [
    "mini_batch_size = 100\n",
    "n_steps = 1000\n",
    "\n",
    "training_data = {image_ffnn: train_dataset, label_ffnn: train_labels}\n",
    "validation_data = {image_ffnn: valid_dataset, label_ffnn: valid_labels}\n",
    "test_data = {image_ffnn: test_dataset, label_ffnn: test_labels}\n",
    "\n",
    "with tf.Session(graph=ffnn_graph) as sess:\n",
    "    tf.global_variables_initializer().run()\n",
    "    for step in range(n_steps + 1):\n",
    "        offset = (step * mini_batch_size) % (train_labels.shape[0] - mini_batch_size)\n",
    "        batch_images = train_dataset[offset:(offset + mini_batch_size), :]\n",
    "        batch_labels = train_labels[offset:(offset + mini_batch_size)]\n",
    "        feed = {image_ffnn: batch_images, label_ffnn: batch_labels}\n",
    "        _, current_loss = sess.run([train_step_ffnn, loss_ffnn], feed_dict=feed)\n",
    "        \n",
    "        if step % 100 == 0:\n",
    "            print('Step %d' % step)\n",
    "            print('....Loss:     %f' % current_loss)\n",
    "            print('....Accuracy on train: %f' % sess.run(accuracy_ffnn, feed_dict=training_data))\n",
    "            print('....Accuracy on validation: %f' % sess.run(accuracy_ffnn, feed_dict=validation_data))\n",
    "    print('Accuracy on test: %f' % sess.run(accuracy_ffnn, feed_dict=test_data))"
   ]
  },
  {
   "cell_type": "markdown",
   "metadata": {},
   "source": [
    "<a id='cnn'></a>\n",
    "# 4. Convolutional Neural Network\n",
    "\n",
    "In practice, increasing the size of hidden layers is not very effective. \n",
    "It is often a better idea to add more layers. \n",
    "Intuitively, if the phenomenon you try to learn has a hierarchical structure, adding more layers can be interpreted as a way to learn more levels of abstraction. \n",
    "For example, if you are trying to recognize objects, it is easier to express shapes from edges and objects from shapes, than to express objects from pixels. \n",
    "Thus, a good design should try to exploit this hierarchy.\n",
    "\n",
    "In particular cases, such as grid-like data (time series, images), you might want to detect a pattern which can happen in different locations of the data. \n",
    "For example, you try to detect a cat, but the cat can be in the middle or the left of the picture. \n",
    "Thus you need to build a model which is translation invariant: it is easier to learn how to recognize an object independently of its location. \n",
    "\n",
    "## 4.1. Description\n",
    "\n",
    "When two inputs might contain the same kind of information, then it is useful to share their weights and train the weights jointly for those inputs to learn statistical invariants (things that don't change much on average across time or space). \n",
    "Using this concept on images leads to convolutional neural networks (CNNs), on text, it results on recurrent neural networks (RNNs). \n",
    "When using CNNs, you set weights to a small kernel that will be used to perform a convolution across the image.\n",
    "\n",
    "The image is represented as a 3-dimensional tensor: (width, height, depth). Width and height charecterize the size of the image (eg. 28 x 28 pixels), and depth the color space (e.g. 1 for grey levels, 3 for RGB pictures since each pixel is represented by a triplet $(R,G,B)$).\n",
    "\n",
    "<img src=\"./pictures/image_tensor.png\",width=150,height=150>\n",
    "\n",
    "The convolution will map patches of this image, combined with the convolution kernel, for example\n",
    "\n",
    "$$\n",
    "\\text{output} = \\text{ReLU}(\\text{patch} \\times W + b)\n",
    "$$\n",
    "\n",
    "<table>\n",
    "    <tr>\n",
    "        <td><img src=\"./pictures/convolution_kernel.png\", width=200, height=200 alt=\"Drawing\"></td>\n",
    "        <td><img src=\"./pictures/ConvLayer.png\", width=400, height=400></td>\n",
    "    </tr>\n",
    "</table>\n",
    "\n",
    "Depending on the shape of the $W$ weights tensor, the tensor resulting from the convolution can have a different depth. Note that in the context of a CNN, the \"kernel\" can be also called a \"filter\".\n",
    "\n",
    "Performing the convolution between the image and the kernel consist to move the kernel across the image, and to produce an output for each patch. \n",
    "The way you move across the image is defined by two parameters:\n",
    "\n",
    "- **Stride:** the stride is the number of pixels you are shifting each time you move your kernel during the convolution.\n",
    "- **Padding:** defines what happens when the kernel reaches a border of the image when doing the convolution. \n",
    "\"Valid\" padding means that you stop at the edge, while \"Same\" padding allows to go off the edge and pad with zeros so that the width and the height of the output and input tensors are the same.\n",
    "\n",
    "For example, a convolution with a stride $> 1$ and valid padding results in a tensor of smaller width and height. \n",
    "You can compute the size of a tensor after convolution using the following formulas:\n",
    "\n",
    "#### Valid padding\n",
    "$$\n",
    "\\text{out}_{\\text{height}} = \\bigg\\lceil \\frac{\\text{in}_{\\text{height}} - \\text{kernel}_{\\text{height}} + 1}{\\text{stride}_{\\text{vertical}}} \\bigg\\rceil \\quad \\text{ and } \\quad\n",
    "\\text{out}_{\\text{width}} = \\bigg\\lceil \\frac{\\text{in}_{\\text{width}} - \\text{kernel}_{\\text{width}} + 1}{\\text{stride}_{\\text{horizontal}}} \\bigg\\rceil\n",
    "$$\n",
    "\n",
    "#### Same padding\n",
    "$$\n",
    "\\text{out}_{\\text{height}} = \\bigg\\lceil \\frac{\\text{in}_{\\text{height}}}{\\text{strides}_{\\text{vertical}}} \n",
    "\\bigg\\rceil \\quad \\text{ and } \\quad \n",
    "\\text{out}_{\\text{width}} = \\bigg\\lceil \\frac{\\text{in}_{\\text{width}}}{\\text{strides}_{\\text{horizontal}}} \\bigg\\rceil\n",
    "$$\n",
    "\n",
    "**Example.**\n",
    "Assume the input tensor is 28x28x3 and the convolution kernel takes in 4x4x3 tensors and outputs 1x1x32 tensors (height x width x depth), i.e the kernel takes in a patch of size 4x4 and depth 3, and output a patch of size 1x1 and depth 32. To do so, the weights tensor $W$ should be 3x3x3x32 (in-height, in-width, in-depth, out-depth). \n",
    "If we are using a stride of 1, the output tensor will be 28x28x32 with same padding, and 25x25x32 with valid padding.\n",
    "Using a stride of 2, the output tensor will be 14x14x32 with same padding, and 13x13x32 with valid padding.\n",
    "\n",
    "Striding is an agressive method to reduce the image size. \n",
    "Instead, it can be a better idea to use a stride of 1 and to combine the convolution's outputs being in some neighborhood. Such an operation combining elements of a tensor is called **pooling**. \n",
    "Neighborhoods are define by the pooling window dimension (width x height) and the strides you use when moving this window across the image.\n",
    "\n",
    "**Example.**\n",
    "Max pooling aggregate several outputs in a neighborhood $N$ using a max operation: \n",
    "\n",
    "$$\n",
    "\\text{output}'_i = \\max_{j \\in N}\\text{output}_j, \\quad i \\in N.\n",
    "$$\n",
    "The formulas to compute the size of the ouput tensor are the same as for convolution padding and striding.\n",
    "\n",
    "Many successful architectures stack convolution layers in a \"pyramidal\" way: each convolution layer result in a tensor with increased depth and decreased height and width. \n",
    "Roughly, increasing the depth increases the complexity of the semantic compexity of your representation, and allows to keep the relevant information in a smaller space (height x width). \n",
    "\n",
    "## 4.2. Building a CNN with several layers\n",
    "\n",
    "## Question\n",
    "\n",
    "1. Implement a CNN having the following structure:\n",
    "\n",
    "    - input (images)\n",
    "    - 5x5 Convolution with stride 1 and same padding\n",
    "    - 2x2 max pool with stride 2 and same padding\n",
    "    - 5x5 Convolution with stride 1 and same padding\n",
    "    - 2x2 max pool with stride 2 and same padding\n",
    "    - Fully connected layer of size 1024\n",
    "    - ReLU\n",
    "    - Fully connected layer of size 10\n",
    "    - Softmax and cross-entropy as the loss function"
   ]
  },
  {
   "cell_type": "code",
   "execution_count": null,
   "metadata": {
    "collapsed": false
   },
   "outputs": [],
   "source": [
    "def weight_variable(shape):\n",
    "    initial = tf.truncated_normal(shape, stddev=0.1)\n",
    "    return tf.Variable(initial)\n",
    "\n",
    "def bias_variable(shape):\n",
    "    initial = tf.constant(0.1, shape=shape)\n",
    "    return tf.Variable(initial)\n",
    "\n",
    "def conv2d(x, W):\n",
    "    return tf.nn.conv2d(x, W, strides=[1, 1, 1, 1], padding='SAME')\n",
    "\n",
    "def max_pool_2x2(x):\n",
    "    return tf.nn.max_pool(x, ksize=[1, 2, 2, 1],\n",
    "                          strides=[1, 2, 2, 1], padding='SAME')\n",
    "\n",
    "convNet_graph = tf.Graph()\n",
    "\n",
    "with convNet_graph.as_default():\n",
    "    # Create a placeholder of dimension `[None, 784]`, containing float32\n",
    "    # `None` means that the first dimension can be of any length\n",
    "    # This placeholder will be fed with MNIST images\n",
    "    image =  # TODO\n",
    "\n",
    "    # Create a placeholder of dimension `[None, 10]`, containing float32\n",
    "    # to be fed with the labels\n",
    "    label =  # TODO\n",
    "    \n",
    "    # Reshape the image as a 28 x 28 X 1 tensor\n",
    "    x_image = tf.reshape(image, [-1, 28, 28, 1])\n",
    "    # If one component of shape is the special value -1, \n",
    "    # the size of that dimension is computed so that the\n",
    "    # total size remains constant. At most one component\n",
    "    # of shape can be -1.\n",
    "\n",
    "    # 5x5 convolution layer, from depth 1 to depth 32\n",
    "    # Get a look at tf.nn.conv2d documentation to shape your weights properly\n",
    "    W_conv1 =  # TODO\n",
    "    b_conv1 =  # TODO\n",
    "    # Perform the convolution and then apply a ReLU\n",
    "    h_conv1 =  # TODO\n",
    "    \n",
    "    # Perform a 2x2 max pool, see tf.nn.max_pool\n",
    "    h_pool1 =  # TODO\n",
    "\n",
    "    # 5x5 convolution, from depth 32 to depth 64\n",
    "    W_conv2 =  # TODO\n",
    "    b_conv2 =  # TODO\n",
    "\n",
    "    # Perform the convolution and then apply a ReLU\n",
    "    h_conv2 =  # TODO\n",
    "    \n",
    "    # 2x2 max pool, see tf.nn.max_pool\n",
    "    h_pool2 =  # TODO\n",
    "\n",
    "    # Fully connected layer of 1024 neurons\n",
    "    number_of_nodes_of_h_pool2_layer =  # TODO    # height x width x depth of h_pool2\n",
    "    W_fc1 =  # TODO # Weights of the fully connected layer\n",
    "    b_fc1 =  # TODO # Biases of the fully connected layer\n",
    "\n",
    "    h_pool2_flat = tf.reshape(h_pool2, [-1, number_of_nodes_of_h_pool2_layer])\n",
    "    # Apply the ReLU after the matrix multiplication (cf. what you did for softmax)\n",
    "    h_fc1 =  # TODO\n",
    "    \n",
    "    # Dropout with keep_prob (placeholder for the argument)\n",
    "    keep_prob = tf.placeholder(tf.float32)\n",
    "    h_fc1_drop = tf.nn.dropout(h_fc1, keep_prob)\n",
    "\n",
    "    # Fully connected layer into the 10 labels\n",
    "    W_fc2 =  # TODO # Weights of the fully connected layer\n",
    "    b_fc2 =  # TODO # Biases of the fully connected layer\n",
    "\n",
    "    scores = tf.matmul(h_fc1_drop, W_fc2) + b_fc2\n",
    "\n",
    "    # Compute cross-entropy with softmax loss, cf. what you did for the previous models\n",
    "    loss =  # TODO\n",
    "    \n",
    "    # Optimization algorithm: ADAM, see https://arxiv.org/abs/1412.6980\n",
    "    train_step = tf.train.AdamOptimizer(1e-3).minimize(loss)\n",
    "    \n",
    "    # Compute performance\n",
    "    correct_prediction = tf.equal(tf.argmax(y_conv,1), tf.argmax(label,1))\n",
    "    accuracy = tf.reduce_mean(tf.cast(correct_prediction, tf.float32))\n"
   ]
  },
  {
   "cell_type": "markdown",
   "metadata": {},
   "source": [
    "## 4.3. Training of the CNN"
   ]
  },
  {
   "cell_type": "code",
   "execution_count": null,
   "metadata": {
    "collapsed": false,
    "scrolled": false
   },
   "outputs": [],
   "source": [
    "mini_batch_size = 100\n",
    "n_steps = 750\n",
    "\n",
    "training_data = {image: train_dataset, label: train_labels, keep_prob: 1}\n",
    "validation_data = {image: valid_dataset, label: valid_labels, keep_prob: 1}\n",
    "test_data = {image: test_dataset, label: test_labels, keep_prob: 1}\n",
    "\n",
    "with tf.Session(graph=convNet_graph) as sess:\n",
    "    tf.global_variables_initializer().run()\n",
    "    # Training loop\n",
    "    for step in range(n_steps):\n",
    "        # Get next batch\n",
    "        offset = (step * mini_batch_size) % (train_labels.shape[0] - mini_batch_size)\n",
    "        batch_images = train_dataset[offset:(offset + mini_batch_size), :]\n",
    "        batch_labels = train_labels[offset:(offset + mini_batch_size)]\n",
    "        feed = {image: batch_images, label: batch_labels, keep_prob: 0.5}\n",
    "        _, current_loss = sess.run([train_step, loss], feed_dict=feed)\n",
    "        \n",
    "        if step % 100 == 0:\n",
    "            print('Step %d' % step)\n",
    "            print('....Loss:     %f' % current_loss)\n",
    "            print('....Accuracy on train (mini batch): %f' % sess.run(accuracy, feed_dict=feed))\n",
    "            print('....Accuracy on validation: %f' % sess.run(accuracy, feed_dict=validation_data))\n",
    "    print('Accuracy on test: %f' % sess.run(accuracy, feed_dict=test_data))\n",
    "    # Save the weights into a numpy ndarray for plotting\n",
    "    weights = sess.run([W_conv1, h_conv1, h_pool1, W_conv2, h_conv2, h_pool2, W_fc1, W_fc2],\n",
    "                        feed_dict={image: train_dataset[0].reshape((1,784)),\n",
    "                                   label: train_labels[0].reshape((1,10)),\n",
    "                                   keep_prob: 1})"
   ]
  },
  {
   "cell_type": "markdown",
   "metadata": {},
   "source": [
    "Accuracy on test: 0.949200 avec 1000 passes\n"
   ]
  },
  {
   "cell_type": "markdown",
   "metadata": {},
   "source": [
    "## 4.4. Visualization of the filters\n",
    "\n",
    "You can get an idea of what the filters are doing to the image by visualizing the tensors produced during forward propagation. The first convolutional layer tend to accentuate contours, while the second one picks salient details of the image. The fully connected layers' job is then simplified as they have access to higher level abstractions to identify the letters"
   ]
  },
  {
   "cell_type": "code",
   "execution_count": null,
   "metadata": {
    "collapsed": false,
    "scrolled": true
   },
   "outputs": [],
   "source": [
    "# Image going through the forward propagation\n",
    "plt.imshow(train_dataset[0].reshape((28,28)), cmap=\"gray_r\", interpolation=\"none\")"
   ]
  },
  {
   "cell_type": "code",
   "execution_count": null,
   "metadata": {
    "collapsed": false
   },
   "outputs": [],
   "source": [
    "# Image representation after the first convolution and ReLU\n",
    "imgs = np.squeeze(weights[1])\n",
    "\n",
    "F = plt.figure(1, (8, 12))\n",
    "from mpl_toolkits.axes_grid1 import ImageGrid\n",
    "grid = ImageGrid(F, 111,  # similar to subplot(111)\n",
    "                 nrows_ncols=(8, 4),\n",
    "                 axes_pad=0.5,\n",
    "                 add_all=True,\n",
    "                 label_mode=\"L\",\n",
    "                 cbar_mode=\"single\"\n",
    "                 )\n",
    "\n",
    "vmin, vmax = imgs.min(), imgs.max()\n",
    "for i in range(32):\n",
    "    ax = grid[i]\n",
    "    im = imgs[:,:,i]\n",
    "    mappable = ax.imshow(im, interpolation=\"nearest\", vmin=vmin, vmax=vmax, cmap=\"bwr\")\n",
    "    ax.axis(\"off\")\n",
    "    ax.set_title(\"filter %i\" % i)\n",
    "grid.cbar_axes[0].colorbar(mappable, ticks=[vmin, 0, vmax])\n",
    "plt.draw()\n",
    "plt.show()"
   ]
  },
  {
   "cell_type": "code",
   "execution_count": null,
   "metadata": {
    "collapsed": false
   },
   "outputs": [],
   "source": [
    "# Image representation after the first convolution and ReLU and max pool\n",
    "imgs = np.squeeze(weights[2])\n",
    "\n",
    "F = plt.figure(1, (8, 12))\n",
    "from mpl_toolkits.axes_grid1 import ImageGrid\n",
    "grid = ImageGrid(F, 111,  # similar to subplot(111)\n",
    "                 nrows_ncols=(8, 4),\n",
    "                 axes_pad=0.5,\n",
    "                 add_all=True,\n",
    "                 label_mode=\"L\",\n",
    "                 cbar_mode=\"single\"\n",
    "                 )\n",
    "\n",
    "vmin, vmax = imgs.min(), imgs.max()\n",
    "for i in range(32):\n",
    "    ax = grid[i]\n",
    "    im = imgs[:,:,i]\n",
    "    mappable = ax.imshow(im, interpolation=\"nearest\", vmin=vmin, vmax=vmax, cmap=\"bwr\")\n",
    "    ax.axis(\"off\")\n",
    "    ax.set_title(\"filter %i\" % i)\n",
    "grid.cbar_axes[0].colorbar(mappable, ticks=[vmin, 0, vmax])\n",
    "plt.draw()\n",
    "plt.show()"
   ]
  },
  {
   "cell_type": "code",
   "execution_count": null,
   "metadata": {
    "collapsed": false,
    "scrolled": false
   },
   "outputs": [],
   "source": [
    "# Image representation after the second convolution and ReLU\n",
    "imgs = np.squeeze(weights[4])\n",
    "\n",
    "F = plt.figure(1, (8, 30))\n",
    "from mpl_toolkits.axes_grid1 import ImageGrid\n",
    "grid = ImageGrid(F, 111,  # similar to subplot(111)\n",
    "                 nrows_ncols=(16, 4),\n",
    "                 axes_pad=0.5,\n",
    "                 add_all=True,\n",
    "                 label_mode=\"L\",\n",
    "                 cbar_mode=\"single\"\n",
    "                 )\n",
    "\n",
    "vmin, vmax = imgs.min(), imgs.max()\n",
    "for i in range(64):\n",
    "    ax = grid[i]\n",
    "    im = imgs[:,:,i]\n",
    "    mappable = ax.imshow(im, interpolation=\"nearest\", vmin=vmin, vmax=vmax, cmap=\"bwr\")\n",
    "    ax.axis(\"off\")\n",
    "    ax.set_title(\"filter %i\" % i)\n",
    "grid.cbar_axes[0].colorbar(mappable, ticks=[vmin, 0, vmax])\n",
    "plt.draw()\n",
    "plt.show()"
   ]
  },
  {
   "cell_type": "code",
   "execution_count": null,
   "metadata": {
    "collapsed": false,
    "scrolled": false
   },
   "outputs": [],
   "source": [
    "# Image representation after the second convolution and ReLU and max pool\n",
    "imgs = np.squeeze(weights[5])\n",
    "\n",
    "F = plt.figure(1, (8, 30))\n",
    "from mpl_toolkits.axes_grid1 import ImageGrid\n",
    "grid = ImageGrid(F, 111,  # similar to subplot(111)\n",
    "                 nrows_ncols=(16, 4),\n",
    "                 axes_pad=0.5,\n",
    "                 add_all=True,\n",
    "                 label_mode=\"L\",\n",
    "                 cbar_mode=\"single\"\n",
    "                 )\n",
    "\n",
    "vmin, vmax = imgs.min(), imgs.max()\n",
    "for i in range(64):\n",
    "    ax = grid[i]\n",
    "    im = imgs[:,:,i]\n",
    "    mappable = ax.imshow(im, interpolation=\"nearest\", vmin=vmin, vmax=vmax, cmap=\"bwr\")\n",
    "    ax.axis(\"off\")\n",
    "    ax.set_title(\"filter %i\" % i)\n",
    "grid.cbar_axes[0].colorbar(mappable, ticks=[vmin, 0, vmax])\n",
    "plt.draw()\n",
    "plt.show()"
   ]
  },
  {
   "cell_type": "markdown",
   "metadata": {
    "collapsed": true
   },
   "source": [
    "<a id='xor'></a>\n",
    "# 5. Hand-made feed-forward network for the XOR problem\n",
    "\n",
    "So far, `tensorflow` did all the work. A central tool for the training of neural networks is the backpropagation, which is the technique used to compute the gradient with respect to the model weights.\n",
    "As an exercice, in order to really understand the way backpropagation works, we propose to code it by yourself, in order to learn the XOR (exclusive OR) function.\n",
    "\n",
    "## QUESTION\n",
    "\n",
    "1. Based on the backprop algorithm presented in [The Deep Learning Book, chapter 6](http://www.deeplearningbook.org/contents/mlp.html), pages 213-213, implement a simple NN using numpy to learn the XOR function with the following fully connected NN:\n",
    "\n",
    "![NN_architecture](./pictures/XOR_NN.png)\n",
    "\n",
    "* Input layer of size 2 (size of a sample of data)\n",
    "* One fully connected hidden layer of size 3 with sigmoid activation\n",
    "* Output layer of size 2 using softmax activation\n",
    "* Use cross-entropy as loss function\n",
    "* Train the NN using gradient descent\n",
    "\n",
    "Using this network, you can learn the XOR function with 10000 GD iterations and a learning rate of 0.5"
   ]
  },
  {
   "cell_type": "code",
   "execution_count": null,
   "metadata": {
    "collapsed": true
   },
   "outputs": [],
   "source": [
    "# Activation function\n",
    "def sigmoid(t):\n",
    "    \"\"\"Sigmoid function (overflow-proof)\"\"\"\n",
    "    ## TODO\n",
    "    \n",
    "    ## END TODO\n",
    "\n",
    "# Activation function derivative\n",
    "def grad_sigmoid(t):\n",
    "    ## TODO\n",
    "    \n",
    "    ## END TODO\n",
    "\n",
    "print(check_grad(sigmoid, grad_sigmoid, np.array([-.7])))"
   ]
  },
  {
   "cell_type": "code",
   "execution_count": null,
   "metadata": {
    "collapsed": false
   },
   "outputs": [],
   "source": [
    "# Prediction and loss functions\n",
    "def softmax(x):\n",
    "    ## TODO\n",
    "    \n",
    "    ## END TODO\n",
    "\n",
    "def cross_entropy(y, p):\n",
    "    ## TODO\n",
    "    \n",
    "    ## END TODO\n",
    "\n",
    "# cross_entropy(y, softmax(z))\n",
    "def cross_entropy_with_softmax(y, z):\n",
    "    ## TODO\n",
    "    \n",
    "    ## END TODO\n",
    "\n",
    "def grad_cross_entropy_with_softmax(y, z):\n",
    "    ## TODO\n",
    "    \n",
    "    ## END TODO\n",
    "\n",
    "y = np.array([0, 1])\n",
    "f = lambda x: cross_entropy_with_softmax(y, x)\n",
    "f_prime = lambda x: grad_cross_entropy_with_softmax(y, x)\n",
    "print(check_grad(f, f_prime, np.array([.7, .3])))"
   ]
  },
  {
   "cell_type": "code",
   "execution_count": null,
   "metadata": {
    "collapsed": false
   },
   "outputs": [],
   "source": [
    "data = np.array([[0, 0], [0, 1], [1, 0], [1, 1]])\n",
    "labels = np.array([[1, 0], [0, 1], [0, 1], [1, 0]])\n",
    "m = data.shape[0]\n",
    "\n",
    "learning_rate = .5\n",
    "\n",
    "\n",
    "# Initialize the variables (weights + biases) for the hidden and output layers\n",
    "# Tip: you should initialize those weigths with random numbers between 0 and 1\n",
    "# Hidden layer\n",
    "W_1 = # TODO                 # Hidden layer of size 3 weights\n",
    "b_1 = # TODO                 # Hidden layer bias terms\n",
    "# Output layer\n",
    "W_2 = # TODO                 # Output layer of size 3 weights\n",
    "b_2 = # TODO                 # Output layer bias terms\n",
    "    \n",
    "# Learning\n",
    "for epoch in range(10000):\n",
    "    # initialize / reset gradients with zeros\n",
    "    grad_W_2 = # TODO\n",
    "    grad_W_1 = # TODO\n",
    "    grad_b_1 = # TODO\n",
    "    grad_b_2 = # TODO\n",
    "    # loop over samples\n",
    "    loss = 0\n",
    "    for i in range(m):\n",
    "        #### forward pass\n",
    "        # input layer\n",
    "        h_0 = data[i].reshape((2,1)) # WARNING: make sure the sample's shape is (2,1)\n",
    "        # hidden layer pass\n",
    "        a_1 = # TODO\n",
    "        h_1 = # TODO\n",
    "        # output layer pass\n",
    "        a_2 = # TODO\n",
    "        h_2 = # TODO\n",
    "        \n",
    "        #### Compute loss for the current sample\n",
    "        loss += # TODO\n",
    "\n",
    "        #### backward pass\n",
    "        # compute neuron errors and update gradient value\n",
    "        # for the output layer\n",
    "        g = # TODO\n",
    "        grad_b_2 += # TODO\n",
    "        grad_W_2 += # TODO\n",
    "        # then for the input layer\n",
    "        g = # TODO\n",
    "        grad_b_1 += # TODO\n",
    "        grad_W_1 += # TODO\n",
    "        \n",
    "    # Update the weights using gradient descent\n",
    "    b_1 -= # TODO\n",
    "    W_1 -= # TODO\n",
    "    b_2 -= # TODO\n",
    "    W_2 -= # TODO\n",
    "    if epoch % 1000 == 0:\n",
    "        print(\"loss at epoch %i: %.4f\" %(epoch, loss))\n",
    "\n",
    "\n",
    "def predict(sample_data):\n",
    "    h_0 = sample_data.reshape((2,1)) # WARNING: make sure the sample's shape is (2,1)\n",
    "    # forward pass to get the NN predictions, same one as the one used for the learning\n",
    "    # Hidden layer\n",
    "    a_1 = # TODO\n",
    "    h_1 = # TODO\n",
    "    # Output layer\n",
    "    a_2 = # TODO\n",
    "    h_2 = # TODO\n",
    "    return h_2.T\n",
    "\n",
    "m = data.shape[0]\n",
    "for i in range(m):\n",
    "    print(data[i], labels[i], np.round(predict(data[i])))"
   ]
  },
  {
   "cell_type": "markdown",
   "metadata": {},
   "source": [
    "# Conclusion\n",
    "\n",
    "You can try to improve your results using some forms of regularization (early stopping, dropout, etc.) to improve even further your results.\n",
    "You can also play with some other dataset, such as CIFAR-10, but computations are wayyy longer and require the use of a large GPU to accelerate things."
   ]
  }
 ],
 "metadata": {
  "anaconda-cloud": {},
  "kernelspec": {
   "display_name": "Python [Root]",
   "language": "python",
   "name": "Python [Root]"
  },
  "language_info": {
   "codemirror_mode": {
    "name": "ipython",
    "version": 3
   },
   "file_extension": ".py",
   "mimetype": "text/x-python",
   "name": "python",
   "nbconvert_exporter": "python",
   "pygments_lexer": "ipython3",
   "version": "3.5.2"
  }
 },
 "nbformat": 4,
 "nbformat_minor": 1
}
